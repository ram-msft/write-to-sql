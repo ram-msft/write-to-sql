{
 "cells": [
  {
   "cell_type": "code",
   "execution_count": 1,
   "metadata": {},
   "outputs": [
    {
     "name": "stdout",
     "output_type": "stream",
     "text": [
      "SDK version: 1.3.0\n"
     ]
    }
   ],
   "source": [
    "import os\n",
    "import azureml.core\n",
    "from azureml.core import Workspace, Experiment, Datastore\n",
    "from azureml.widgets import RunDetails\n",
    "\n",
    "# Check core SDK version number\n",
    "print(\"SDK version:\", azureml.core.VERSION)"
   ]
  },
  {
   "cell_type": "code",
   "execution_count": 2,
   "metadata": {},
   "outputs": [
    {
     "name": "stdout",
     "output_type": "stream",
     "text": [
      "Pipeline SDK-specific imports completed\n"
     ]
    }
   ],
   "source": [
    "from azureml.pipeline.core import Pipeline\n",
    "from azureml.pipeline.steps import PythonScriptStep\n",
    "\n",
    "print(\"Pipeline SDK-specific imports completed\")"
   ]
  },
  {
   "cell_type": "code",
   "execution_count": 3,
   "metadata": {},
   "outputs": [
    {
     "name": "stderr",
     "output_type": "stream",
     "text": [
      "WARNING - Warning: Falling back to use azure cli login credentials.\n",
      "If you run your code in unattended mode, i.e., where you can't give a user input, then we recommend to use ServicePrincipalAuthentication or MsiAuthentication.\n",
      "Please refer to aka.ms/aml-notebook-auth for different authentication mechanisms in azureml-sdk.\n"
     ]
    },
    {
     "name": "stdout",
     "output_type": "stream",
     "text": [
      "testworkspace\n",
      "maytest\n",
      "centralus\n",
      "35f16a99-532a-4a47-9e93-00305f6c40f2\n"
     ]
    }
   ],
   "source": [
    "ws = Workspace.from_config()\n",
    "print(ws.name, ws.resource_group, ws.location, ws.subscription_id, sep = '\\n')"
   ]
  },
  {
   "cell_type": "code",
   "execution_count": 4,
   "metadata": {},
   "outputs": [
    {
     "name": "stdout",
     "output_type": "stream",
     "text": [
      "{'currentNodeCount': 1, 'targetNodeCount': 1, 'nodeStateCounts': {'preparingNodeCount': 0, 'runningNodeCount': 0, 'idleNodeCount': 1, 'unusableNodeCount': 0, 'leavingNodeCount': 0, 'preemptedNodeCount': 0}, 'allocationState': 'Steady', 'allocationStateTransitionTime': '2020-05-14T22:55:48.762000+00:00', 'errors': None, 'creationTime': '2020-01-28T06:09:33.862975+00:00', 'modifiedTime': '2020-04-23T23:59:31.791376+00:00', 'provisioningState': 'Succeeded', 'provisioningStateTransitionTime': None, 'scaleSettings': {'minNodeCount': 1, 'maxNodeCount': 16, 'nodeIdleTimeBeforeScaleDown': 'PT600S'}, 'vmPriority': 'Dedicated', 'vmSize': 'STANDARD_D14_V2'}\n"
     ]
    }
   ],
   "source": [
    "from azureml.core.compute import AmlCompute\n",
    "aml_compute = AmlCompute(ws, \"amlcomp\")\n",
    "print(aml_compute.get_status().serialize())"
   ]
  },
  {
   "cell_type": "code",
   "execution_count": 5,
   "metadata": {},
   "outputs": [
    {
     "name": "stdout",
     "output_type": "stream",
     "text": [
      "Source directory for the step is C:\\Users\\SIHHU\\Desktop\\write to sql\\script.\n",
      "sql_demo_step created\n"
     ]
    }
   ],
   "source": [
    "# Use a RunConfiguration to specify some additional requirements for this step.\n",
    "from azureml.core.runconfig import RunConfiguration\n",
    "from azureml.core.conda_dependencies import CondaDependencies\n",
    "from azureml.core.container_registry import ContainerRegistry\n",
    "\n",
    "# create a new runconfig object\n",
    "run_config = RunConfiguration()\n",
    "\n",
    "# enable Docker \n",
    "run_config.environment.docker.enabled = True\n",
    "\n",
    "# pointing to the default container registry in the workspace\n",
    "image_registry_details = ContainerRegistry()\n",
    "image_registry_details.address = \"testworkspacc2c59dc5.azurecr.io\"\n",
    "run_config.environment.docker.base_image_registry = image_registry_details\n",
    "\n",
    "# this is an image in the image_registry\n",
    "image_name = 'azureml/odbcimage:latest' # should look like 'azureml/{image_name}:{tag}'\n",
    "run_config.environment.docker.base_image = image_name\n",
    "\n",
    "# use conda_dependencies.yml to create a conda environment in the Docker image for execution\n",
    "run_config.environment.python.user_managed_dependencies = True\n",
    "\n",
    "# specify CondaDependencies obj\n",
    "run_config.environment.python.conda_dependencies = CondaDependencies.create(conda_packages=['pyodbc'])\n",
    "\n",
    "# For this step, we use a source_directory that contains our python script that we want to run\n",
    "source_directory = './script' # name of the directory containing the python script we wish to run \n",
    "print('Source directory for the step is {}.'.format(os.path.realpath(source_directory)))\n",
    "\n",
    "sql_demo_step = PythonScriptStep(name=\"sql_step\",\n",
    "                         script_name=\"pyodbc_pipeline_step.py\", \n",
    "                         compute_target=aml_compute, \n",
    "                         source_directory=source_directory,\n",
    "                         runconfig=run_config)\n",
    "\n",
    "print(\"sql_demo_step created\")"
   ]
  },
  {
   "cell_type": "code",
   "execution_count": 6,
   "metadata": {},
   "outputs": [
    {
     "name": "stdout",
     "output_type": "stream",
     "text": [
      "Pipeline is built, now validating...\n",
      "Step sql_step is ready to be created [a500fc9e]\n",
      "Pipeline validation complete\n"
     ]
    }
   ],
   "source": [
    "#build and validate pipeline\n",
    "steps=[sql_demo_step]\n",
    "pipeline1 = Pipeline(workspace=ws, steps=steps)\n",
    "print (\"Pipeline is built, now validating...\")\n",
    "pipeline1.validate()\n",
    "print(\"Pipeline validation complete\")"
   ]
  },
  {
   "cell_type": "code",
   "execution_count": 7,
   "metadata": {},
   "outputs": [
    {
     "name": "stdout",
     "output_type": "stream",
     "text": [
      "Created step sql_step [a500fc9e][6f8f1364-7461-4599-8b35-1e9f52b5375c], (This step will run and generate new outputs)\n",
      "Submitted PipelineRun b1a7fc95-ab8e-4b28-b18c-05f0191addbb\n",
      "Link to Azure Machine Learning Portal: https://ml.azure.com/experiments/PYODBC_DEMO/runs/b1a7fc95-ab8e-4b28-b18c-05f0191addbb?wsid=/subscriptions/35f16a99-532a-4a47-9e93-00305f6c40f2/resourcegroups/maytest/workspaces/testworkspace\n"
     ]
    }
   ],
   "source": [
    "# Submit for execution\n",
    "pipeline_run1 = Experiment(ws, 'PYODBC_DEMO').submit(pipeline1, regenerate_outputs=False)"
   ]
  }
 ],
 "metadata": {
  "kernelspec": {
   "display_name": "Python 3",
   "language": "python",
   "name": "python3"
  },
  "language_info": {
   "codemirror_mode": {
    "name": "ipython",
    "version": 3
   },
   "file_extension": ".py",
   "mimetype": "text/x-python",
   "name": "python",
   "nbconvert_exporter": "python",
   "pygments_lexer": "ipython3",
   "version": "3.6.9"
  }
 },
 "nbformat": 4,
 "nbformat_minor": 4
}
